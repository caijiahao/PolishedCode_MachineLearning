{
 "cells": [
  {
   "cell_type": "markdown",
   "metadata": {},
   "source": [
    "## Polished Code (Real-World Example)\n",
    "\n",
    "### Coordinate Descent Algorithm with Elastic Net Regularization\n",
    "\n",
    "#### Samir D Patel"
   ]
  },
  {
   "cell_type": "markdown",
   "metadata": {},
   "source": [
    "This notebook is an overview of my own implementation of an an Elastic Net Regularized, Coordinate Descent Algorithm on a real-world dataset.\n",
    "\n",
    "This was done as part of my DATA 558 Machine Learning course at the University of Washington."
   ]
  },
  {
   "cell_type": "markdown",
   "metadata": {},
   "source": [
    " "
   ]
  },
  {
   "cell_type": "code",
   "execution_count": 1,
   "metadata": {
    "collapsed": true
   },
   "outputs": [],
   "source": [
    "import numpy as np\n",
    "%matplotlib inline  \n",
    "import matplotlib.pyplot as plt  \n",
    "import pandas as pd\n",
    "import copy\n",
    "import time\n",
    "from sklearn.preprocessing import StandardScaler\n",
    "from sklearn.linear_model import ElasticNetCV, ElasticNet\n",
    "from sklearn.model_selection import KFold\n",
    "from sklearn.metrics import mean_squared_error\n",
    "from multiprocessing import Pool\n",
    "\n",
    "# Only needed for IPython Notebook output\n",
    "from IPython.core.interactiveshell import InteractiveShell\n",
    "InteractiveShell.ast_node_interactivity = \"all\"\n"
   ]
  },
  {
   "cell_type": "markdown",
   "metadata": {},
   "source": [
    " "
   ]
  },
  {
   "cell_type": "code",
   "execution_count": 2,
   "metadata": {
    "collapsed": false
   },
   "outputs": [],
   "source": [
    "# Importing the \"Hitters\" dataset from Introduction to Statistical Learning and standardizing the predictors\n",
    "\n",
    "def load_data():\n",
    "    \"\"\"\n",
    "    This function loads the 'Hitters' dataset from Introduction to Statistical\n",
    "    Learning, splits the responses and predictors into X and Y respectively\n",
    "    and standardizes both X and Y.\n",
    "\n",
    "    :return X: numpy array\n",
    "        Data containing the predictors\n",
    "    :return Y: numpy array\n",
    "        Data containing the response\n",
    "\n",
    "    \"\"\"\n",
    "\n",
    "    # Load dataset\n",
    "    hitters = pd.read_csv('https://raw.githubusercontent.com/selva86/datasets/master/Hitters.csv', sep=',', header=0)\n",
    "\n",
    "    # Remove NAs\n",
    "    hitters = hitters.dropna()\n",
    "\n",
    "    # Split and Standardize\n",
    "    x_load = hitters.drop('Salary', axis=1)\n",
    "    y_load = hitters['Salary']\n",
    "    y_scrub = y_load.reset_index(drop=True)\n",
    "    x_scrub = pd.get_dummies(x_load, drop_first=True)\n",
    "    scaler = StandardScaler()\n",
    "    X = scaler.fit_transform(x_scrub)\n",
    "    Y = scaler.fit_transform(y_scrub)\n",
    "\n",
    "    return X, Y\n",
    "\n",
    "\n",
    "def init_vars(x_data):\n",
    "    \"\"\"\n",
    "    This function takes the X dataset (predictors) as an argument and returns\n",
    "    variables containing number of columns rows, and an initialization vector \n",
    "    of beta values for the coordinate descent algorithm.\n",
    "\n",
    "    :param x_data: numpy array\n",
    "        Data containing the predictors\n",
    "    :return n: numpy array\n",
    "        Data containing the number of observations/rows\n",
    "    :return p: numpy array\n",
    "        Data containing the number of predictors/columns\n",
    "    :return beta_zero: numpy array\n",
    "        A vector of zero values for initializing 'beta' in \n",
    "        the coordinate descent algorithm\n",
    "\n",
    "    \"\"\"\n",
    "\n",
    "    n = x_data.shape[0]\n",
    "    p = x_data.shape[1]\n",
    "    beta_zero = np.zeros(p)\n",
    "\n",
    "    return n, p, beta_zero\n",
    "\n",
    "\n",
    "def partial_min(j, beta, alpha, lamb, x_data, y_data):\n",
    "    \"\"\"\n",
    "    The function computes the solution to the partial minimization \n",
    "    problem for the L1-regularized component of the Elastic Net\n",
    "\n",
    "    :param j: int\n",
    "        Value of predictor column selected for descent\n",
    "    :param beta: numpy array\n",
    "        A vector of the beta coefficients used as input to calculate the \n",
    "        minimization of Beta at coordinate j\n",
    "    :param alpha: float\n",
    "        Value for controlling the ElasticNet's L1_ratio where alpha = 0 is a full\n",
    "        L2 penalty and alpha = 1 is a full L1 penalty.  Values between represent a\n",
    "        combination of L1 and L2 penalty.\n",
    "    :param lamb:  float\n",
    "        Value of regularization penalty to apply to model\n",
    "    :param x_data: numpy array\n",
    "        Data containing the predictors\n",
    "    :param y_data: numpy array\n",
    "        Data containing the response\n",
    "    :return new_beta: numpy array\n",
    "        A vector of the updated beta coefficients after the minimization of \n",
    "        Beta at coordinate j\n",
    "\n",
    "    \"\"\"\n",
    "\n",
    "    x = copy.deepcopy(x_data)\n",
    "    y = copy.deepcopy(y_data)\n",
    "    p = len(x[0])\n",
    "    n = len(x)\n",
    "\n",
    "    # Split of X dataset's column j\n",
    "    x0j = np.delete(x, j, 1)\n",
    "\n",
    "    # Remaining X dataset without column j\n",
    "    xij = pd.DataFrame(x)[j]\n",
    "\n",
    "    # Beta vector deleting entry with value j\n",
    "    beta_0j = np.delete(beta, j)\n",
    "\n",
    "    c = 0.5 * (1 / n) * 2 * np.sum(np.dot(xij.T, (y - np.dot(x0j, beta_0j))))\n",
    "    a = 0.5 * (1 / n) * 2 * np.sum(xij ** 2, axis=0) + 0.5 * 2 * lamb * (1 - alpha)\n",
    "\n",
    "    if c < -lamb * alpha:\n",
    "        new_beta = (c + (lamb * alpha)) / a\n",
    "    elif c > lamb * alpha:\n",
    "        new_beta = (c - (lamb * alpha)) / a\n",
    "    else:\n",
    "        new_beta = 0\n",
    "\n",
    "    return new_beta\n",
    "\n",
    "\n",
    "def computeobj(beta, alpha, lamb, x_data, y_data):\n",
    "    \"\"\"\n",
    "    This function computes the objective function for any Beta coefficient \n",
    "    vector, with arguments for alpha, lamb and the X and Y data.\n",
    "\n",
    "    :param beta: numpy array\n",
    "        A vector of the beta coefficients used as input\n",
    "    :param alpha: float\n",
    "        Value for controlling the ElasticNet's L1_ratio where alpha = 0 is a full\n",
    "        L2 penalty and alpha = 1 is a full L1 penalty.  Values between represent a\n",
    "        combination of L1 and L2 penalty. \n",
    "    :param lamb:  float\n",
    "        Value of regularization penalty to apply to model\n",
    "    :param x_data: numpy array\n",
    "        Data containing the predictors\n",
    "    :param y_data: numpy array\n",
    "        Data containing the response\n",
    "    :return obj: float\n",
    "\n",
    "    \"\"\"\n",
    "\n",
    "    x = copy.deepcopy(x_data)\n",
    "    y = copy.deepcopy(y_data)\n",
    "    n = len(x)\n",
    "\n",
    "    obj = 0.5 * (1 / n) * (np.sum((y - np.dot(x, beta)) ** 2)) + 0.5 * lamb * (1 - alpha) * np.sum(\n",
    "        np.abs(beta) ** 2) + lamb * alpha * np.sum(np.abs(beta))\n",
    "\n",
    "    return obj\n",
    "\n",
    "\n",
    "def cycliccoorddescent(beta, alpha, lamb, x_data, y_data, max_iter=1000, eps=1e-7):\n",
    "    \"\"\"\n",
    "    This function implements the cyclic coordinate descent algorithm. \n",
    "    The function takes as input the initial point and the maximum number of iterations. \n",
    "    The stopping criterion is the maximum number of iterations or convergence criterion 'eps',\n",
    "    whichever comes first.\n",
    "\n",
    "    :param beta: numpy array\n",
    "        A vector of the beta coefficients used as input\n",
    "    :param alpha: float\n",
    "        Value for controlling the ElasticNet's L1_ratio where alpha = 0 is a full\n",
    "        L2 penalty and alpha = 1 is a full L1 penalty.  Values between represent a\n",
    "        combination of L1 and L2 penalty.\n",
    "    :param lamb:  float\n",
    "        Value of regularization penalty to apply to model\n",
    "    :param x_data: numpy array\n",
    "        Data containing the predictors\n",
    "    :param y_data: numpy array\n",
    "        Data containing the response\n",
    "    :param max_iter: int\n",
    "        Value for setting the maximum number of iterations in the algorithm\n",
    "    :param eps: float\n",
    "        Value used as a convergence criterion to end the algorithm once the\n",
    "        coordinate descent between iterations becomes too low.\n",
    "    :return beta_out: float\n",
    "        The final calculated value of beta coefficients which minimizes\n",
    "        the objective function.\n",
    "    \"\"\"\n",
    "\n",
    "    x = copy.deepcopy(x_data)\n",
    "    y = copy.deepcopy(y_data)\n",
    "    p = len(x[0])\n",
    "    new_beta = copy.deepcopy(beta)\n",
    "    beta_out = [beta]\n",
    "\n",
    "    t = 0\n",
    "\n",
    "    # Value set to prevent early convergence\n",
    "    bdelta = 9999\n",
    "\n",
    "    while t < (max_iter * p) and bdelta > eps:\n",
    "        j = np.remainder(t, p)\n",
    "        new_beta[j] = partial_min(j, new_beta, alpha, lamb, x, y)\n",
    "        if np.remainder(t, p) == 0:\n",
    "            beta_out.append(np.array(new_beta))\n",
    "            if t > 3:\n",
    "                bdelta = np.abs(np.linalg.norm(beta_out[-2]) - np.linalg.norm(beta_out[-1]))\n",
    "        t += 1\n",
    "\n",
    "    return beta_out\n",
    "\n",
    "\n",
    "def pickcoord(p):\n",
    "    \"\"\"\n",
    "    This function randomly samples from the set {1...d} to select a \n",
    "    coordinate in the random cyclic descent algorithm.\n",
    "\n",
    "    :param p: int\n",
    "        Number of predictors in the dataset \n",
    "    :return pick: int\n",
    "        The randomly chosen predictor use for coordinate descent\n",
    "    \"\"\"\n",
    "\n",
    "    pick = np.random.randint(p)\n",
    "\n",
    "    return pick\n",
    "\n",
    "\n",
    "def randcoorddescent(beta, alpha, lamb, x_data, y_data, max_iter=1000, eps=1e-7):\n",
    "    \"\"\"\n",
    "    This function implements the random coordinate descent algorithm. \n",
    "    The function takes as input the initial point and the maximum number of iterations. \n",
    "    The stopping criterion is the maximum number of iterations or convergence criterion 'eps',\n",
    "    whichever comes first.\n",
    "\n",
    "    :param beta: numpy array\n",
    "        A vector of the beta coefficients used as input\n",
    "    :param alpha: float\n",
    "        Value for controlling the ElasticNet's L1_ratio where alpha = 0 is a full\n",
    "        L2 penalty and alpha = 1 is a full L1 penalty.  Values between represent a\n",
    "        combination of L1 and L2 penalty.\n",
    "    :param lamb:  float\n",
    "        Value of regularization penalty to apply to model\n",
    "    :param x_data: numpy array\n",
    "        Data containing the predictors\n",
    "    :param y_data: numpy array\n",
    "        Data containing the response\n",
    "    :param max_iter: int\n",
    "        Value for setting the maximum number of iterations in the algorithm\n",
    "    :param eps: float\n",
    "        Value used as a convergence criterion to end the algorithm once the\n",
    "        coordinate descent between iterations becomes too low.\n",
    "    :return beta_out: float\n",
    "        The final calculated value of beta coefficients which minimizes\n",
    "        the objective function.\n",
    "\n",
    "    \"\"\"\n",
    "\n",
    "    x = copy.deepcopy(x_data)\n",
    "    y = copy.deepcopy(y_data)\n",
    "    p = len(x[0])\n",
    "    new_beta = copy.deepcopy(beta)\n",
    "    beta_out = [beta]\n",
    "\n",
    "    t = 0\n",
    "\n",
    "    # Value set to prevent early convergence\n",
    "    bdelta = 9999\n",
    "\n",
    "    while t < (max_iter * p) and bdelta > eps:\n",
    "        # for i in range(p):\n",
    "        j = pickcoord(p)\n",
    "        new_beta[j] = partial_min(j, new_beta, alpha, lamb, x, y)\n",
    "        if np.remainder(t, p) == 0:\n",
    "            beta_out.append(np.array(new_beta))\n",
    "            if t > 3:\n",
    "                bdelta = np.abs(np.linalg.norm(beta_out[-2]) - np.linalg.norm(beta_out[-1]))\n",
    "        t += 1\n",
    "\n",
    "    return beta_out\n",
    "\n",
    "\n",
    "def runsklelasticnetcv(alpha, x_data, y_data, descent_type):\n",
    "    \"\"\"\n",
    "    This function runs Sci-Kit Learn's ElasticNetCV running the coordinate\n",
    "    descent algorithm with cross-validation to select optimal lambda \n",
    "    (regularization penalty). Function takes  input of alpha, predictor and \n",
    "    response data, and descent type ('cyclic' or 'random')\n",
    "\n",
    "     :param alpha: float\n",
    "        Value for controlling the ElasticNet's L1_ratio where alpha = 0 is a full\n",
    "        L2 penalty and alpha = 1 is a full L1 penalty.  Values between represent a\n",
    "        combination of L1 and L2 penalty. \n",
    "    :param x_data: numpy array\n",
    "        Data containing the predictors\n",
    "    :param y_data: numpy array\n",
    "        Data containing the response\n",
    "     :param descent_type: str\n",
    "        Selection of the coordinate descent algorithm type, either 'random'\n",
    "        or 'cyclic\n",
    "    :return betaskl: list of float values\n",
    "    :return lambskl: float\n",
    "\n",
    "    \"\"\"\n",
    "\n",
    "    encv = ElasticNetCV(l1_ratio=alpha, fit_intercept=False, tol=0.000001,\n",
    "                        selection=descent_type, max_iter=10000)\n",
    "    encv.fit(x_data, y_data)\n",
    "    lambskl = encv.alpha_\n",
    "    betaskl = encv.coef_\n",
    "\n",
    "    return betaskl, lambskl\n",
    "\n",
    "\n",
    "def runsklelasticnet(lamb, alpha, x_data, y_data, descent_type):\n",
    "    \"\"\"\n",
    "    This function runs Sci-Kit Learn's ElasticNet function, running the \n",
    "    coordinate descent algorithm with input of lambda, alpha, predictor and \n",
    "    response data, and descent type ('cyclic' or 'random')\n",
    "    (regularization penalty).\n",
    "\n",
    "     :param alpha: float\n",
    "        Value for controlling the ElasticNet's L1_ratio where alpha = 0 is a full\n",
    "        L2 penalty and alpha = 1 is a full L1 penalty.  Values between represent a\n",
    "        combination of L1 and L2 penalty. \n",
    "    :param lamb:  float\n",
    "        Value of regularization penalty to apply to model\n",
    "    :param x_data: numpy array\n",
    "        Data containing the predictors\n",
    "    :param y_data: numpy array\n",
    "        Data containing the response\n",
    "     :param descent_type: str\n",
    "        Selection of the coordinate descent algorithm type, either 'random'\n",
    "        or 'cyclic\n",
    "    :return betaskl: list of float values\n",
    "    :return lambskl: float\n",
    "\n",
    "    \"\"\"\n",
    "\n",
    "    en = ElasticNet(alpha=lamb, l1_ratio=alpha, fit_intercept=False,\n",
    "                    selection=descent_type, tol=0.000001, max_iter=10000)\n",
    "    en.fit(x_data, y_data)\n",
    "    betaskl = en.coef_\n",
    "\n",
    "    return betaskl\n",
    "\n",
    "\n",
    "def cross_val(lamb_list, folds, x_data, y_data):\n",
    "    \"\"\"\n",
    "    This function performs cross-validation for the hand-implemented\n",
    "    coordinate descent algorithms.\n",
    "\n",
    "    :param lamb_list: list of float values\n",
    "        Values for regularization penalty to be used for cross validation.\n",
    "    :param folds:  int\n",
    "        Number of folds for K-Folds Cross Validation\n",
    "    :param x_data: numpy array\n",
    "        Data containing the predictors\n",
    "    :param y_data: numpy array\n",
    "        Data containing the response\n",
    "    :return mse_list: list of float values\n",
    "        List output of mean-squared error values from cross-validation\n",
    "        for each lambda value, taking the the average of fold results.\n",
    "\n",
    "    \"\"\"\n",
    "\n",
    "    X = np.array(x_data)\n",
    "    Y = np.array(y_data)\n",
    "    beta = beta_zero\n",
    "    mse_list = []\n",
    "\n",
    "    kf = KFold(n_splits=folds, random_state=None, shuffle=False)\n",
    "\n",
    "    for lamb in lamb_list:\n",
    "\n",
    "        mse_fold = []\n",
    "\n",
    "        for train_index, test_index in kf.split(X):\n",
    "            # Performing data split for fold\n",
    "            X_train, X_test = X[train_index], X[test_index]\n",
    "            Y_train, Y_test = Y[train_index], Y[test_index]\n",
    "            Y_train = Y_train.reshape((len(Y_train), 1))\n",
    "            Y_test = Y_test.reshape((len(Y_test), 1))\n",
    "\n",
    "            # Standardization of data after split\n",
    "            scaler = StandardScaler()\n",
    "            X_train = scaler.fit_transform(X_train)\n",
    "            X_test = scaler.transform(X_test)\n",
    "            Y_train = scaler.fit_transform(Y_train)\n",
    "            Y_test = scaler.transform(Y_test)\n",
    "            Y_train = np.ravel(Y_train)\n",
    "            Y_test = np.ravel(Y_test)\n",
    "\n",
    "            # Running cyclic coord descent and calculating MSE\n",
    "            beta_temp = cycliccoorddescent(beta, 0.9, lamb, x_data=X_train, y_data=Y_train)\n",
    "            beta = beta_temp[-1]  # updating beta for warm start\n",
    "            y_hat = np.dot(X_test, beta_temp[-1].T)\n",
    "            mse_fold.append(mean_squared_error(Y_test, y_hat))\n",
    "\n",
    "        mse_list.append(np.mean(mse_fold))\n",
    "\n",
    "    return mse_list\n",
    "\n",
    "\n",
    "def runcompareCV(lamb_list, alpha, folds, X_data, Y_data):\n",
    "    \"\"\"\n",
    "    This function compares results between the hand-implemented and \n",
    "    SKLearn versions of the coordinate descent alg w/ Elastic Net regularization.\n",
    "\n",
    "    :param lamb_list: list of float values\n",
    "        Values for regularization penalty to be used for cross validation.\n",
    "    :param alpha: float\n",
    "        Value for controlling the ElasticNet's L1_ratio where alpha = 0 is a full\n",
    "        L2 penalty and alpha = 1 is a full L1 penalty.  Values between represent a\n",
    "        combination of L1 and L2 penalty. \n",
    "    :param folds:  int\n",
    "        Number of folds for K-Folds Cross Validation\n",
    "    :param X_data: numpy array\n",
    "        Data containing the predictors\n",
    "    :param Y_data: numpy array\n",
    "        Data containing the response\n",
    "    :return data:  Pandas DataFrame\n",
    "        Data object containing the cross validation results.\n",
    "    :return skoptlamb: float\n",
    "        Optimal value of lambda (regularization penalty term) determined\n",
    "        by SKLearn\n",
    "    :return myoptlamb: float\n",
    "        Optimal value of lambda (regularization penalty term) determined\n",
    "        by hand-implemented algorithm.\n",
    "\n",
    "    \"\"\"\n",
    "\n",
    "    # Running hand implemented algorithm with cross-validation\n",
    "    cv_mse = cross_val(lamb_list, folds, X_data, Y_data )\n",
    "\n",
    "    # Running SKLearn algorithm with cross-validation\n",
    "    encv = ElasticNetCV(alphas=lamb_list, l1_ratio=alpha, fit_intercept=False, max_iter=10000)\n",
    "    encv.fit(X_data, Y_data)\n",
    "    skl_lambs = encv.alphas_\n",
    "    skl_mse = np.mean(encv.mse_path_, axis=1)\n",
    "    skoptlamb = encv.alpha_\n",
    "\n",
    "    # Creating dataframe with results\n",
    "    data = pd.DataFrame()\n",
    "    data['Lambda'] = lamb_list\n",
    "    data['Cyclic MSE'] = cv_mse\n",
    "    data['SKL Lambda'] = encv.alphas_[::-1]\n",
    "    data['SKL MSE'] = skl_mse[::-1]\n",
    "    data['Log Lambdas'] = np.log(lamb_list)\n",
    "    \n",
    "    # Calculating optimal lambda from hand impelmented results\n",
    "    opt_lamb = np.ravel(data[data['Cyclic MSE'] == data['Cyclic MSE'].min(0)]['Lambda'])\n",
    "    opt_lamb = opt_lamb[0]\n",
    "\n",
    "    return data, skoptlamb, opt_lamb\n",
    "\n",
    "\n",
    "def cvplot(data):\n",
    "    \"\"\"\n",
    "    This function creates a plot based on the cross-validation results\n",
    "    comparing the hand-implemented and SKLearn algorithms across varying\n",
    "    regularization penalty values.\n",
    "    \n",
    "    :param data: Pandas DataFrame\n",
    "        Data object containing cross-validation comparison from runcompareCV\n",
    "\n",
    "    \"\"\"\n",
    "\n",
    "    # Plotting results of cross-validation comparison\n",
    "    plt.figure(figsize=(30, 10));\n",
    "    plt.plot(data['Log Lambdas'], data['Cyclic MSE'], label=\"Cyclic\");\n",
    "    plt.plot(data['Log Lambdas'], data['SKL MSE'], 'o', label=\"SKLearn_ELCV\");\n",
    "    plt.legend();\n",
    "    plt.ylabel(\"Mean Squared Error\", fontsize=30);\n",
    "    plt.xlabel(\"Log Lambdas\", fontsize=30);\n",
    "    plt.title(\"Log Lambda vs Mean Squared Error from Cross Validation\", fontsize=40);\n",
    "    plt.xticks(fontsize=30);\n",
    "    plt.yticks(fontsize=30);\n",
    "    plt.legend(fontsize=30);\n",
    "\n",
    "    \n",
    "def calc_obj_val(beta_vals, alpha, lamb, x_data, y_data):\n",
    "    \"\"\"\n",
    "    This function calculates a list of objective values across the \n",
    "    iterations of the coordinate descent algorithm.\n",
    "\n",
    "    :param beta_vals: numpy array\n",
    "        A vector of the beta coefficients used as input\n",
    "    :param alpha: float\n",
    "        Value for controlling the ElasticNet's L1_ratio where alpha = 0 is a full\n",
    "        L2 penalty and alpha = 1 is a full L1 penalty.  Values between represent a\n",
    "        combination of L1 and L2 penalty. \n",
    "    :param lamb:  float\n",
    "        Value of regularization penalty to apply to model\n",
    "    :param x_data: numpy array\n",
    "        Data containing the predictors\n",
    "    :param y_data: numpy array\n",
    "        Data containing the response\n",
    "    :return obj_vals: list of float values\n",
    "        The calculated objective function values throughout the coordinate\n",
    "        descent (across all iterations)\n",
    "\n",
    "    \"\"\"\n",
    "\n",
    "    obj_vals = []\n",
    "\n",
    "    for i in range(len(beta_vals)):\n",
    "        objv = computeobj(beta_vals[i], alpha, lamb, x_data, y_data)\n",
    "        obj_vals.append(objv)\n",
    "\n",
    "    return obj_vals\n",
    "\n",
    "\n",
    "def objvals(alpha, lamb, x_data, y_data, beta_cyc_vals, beta_rand_vals):\n",
    "    \"\"\"\n",
    "    This function outputs the list of objective values for hand-implemented\n",
    "    cyclic and random coordinate descent algorithms, along with iteration\n",
    "    counts for each.\n",
    "\n",
    "    :param alpha: float\n",
    "        Value for controlling the ElasticNet's L1_ratio where alpha = 0 is a full\n",
    "        L2 penalty and alpha = 1 is a full L1 penalty.  Values between represent a\n",
    "        combination of L1 and L2 penalty. \n",
    "    :param lamb:  float\n",
    "        Value of regularization penalty to apply to model\n",
    "    :param x_data: numpy array\n",
    "        Data containing the predictors\n",
    "    :param y_data: numpy array\n",
    "        Data containing the response\n",
    "    :param beta_cyc_vals: numpy array\n",
    "        Beta coefficient vectors for the iterations from the cyclic coordinate descent\n",
    "    :param beta_rand_vals: numpy array\n",
    "        Beta coefficient vectors for the iterations from the random coordinate descent\n",
    "    :return cyc_obj_vals: list of float values\n",
    "        The calculated objective function values throughout the cyclic\n",
    "        coordinate descent (across all iterations)\n",
    "    :return rand_obj_vals: list of float values\n",
    "        The calculated objective function values throughout the random\n",
    "        coordinate descent (across all iterations)\n",
    "\n",
    "    \"\"\"\n",
    "    \n",
    "    cyc_obj_vals = calc_obj_val(beta_cyc_vals, alpha, lamb, x_data, y_data)\n",
    "    rand_obj_vals = calc_obj_val(beta_rand_vals, alpha, lamb, x_data, y_data)\n",
    "\n",
    "    t_cyc_count = np.arange(len(cyc_obj_vals))\n",
    "    t_rand_count = np.arange(len(rand_obj_vals))\n",
    "\n",
    "    return cyc_obj_vals, rand_obj_vals, t_cyc_count, t_rand_count\n",
    "\n",
    "\n",
    "def objvalsplot(alpha, lamb, x_data, y_data, beta_cyc_vals, beta_rand_vals):\n",
    "    \"\"\"\n",
    "    This function creates a plot of the objective values vs iteration counts\n",
    "    for hand-implemented cyclic and random coordinate descent algorithms \n",
    "\n",
    "    :param alpha: float\n",
    "        Value for controlling the ElasticNet's L1_ratio where alpha = 0 is a full\n",
    "        L2 penalty and alpha = 1 is a full L1 penalty.  Values between represent a\n",
    "        combination of L1 and L2 penalty. \n",
    "    :param lamb:  float\n",
    "        Value of regularization penalty to apply to model\n",
    "    :param x_data: numpy array\n",
    "        Data containing the predictors\n",
    "    :param y_data: numpy array\n",
    "        Data containing the response\n",
    "    :param beta_cyc_vals: numpy array\n",
    "        Beta coefficient vectors for the iterations from the cyclic coordinate descent\n",
    "    :param beta_rand_vals: numpy array\n",
    "        Beta coefficient vectors for the iterations from the random coordinate descent\n",
    "\n",
    "    \"\"\"\n",
    "\n",
    "    # Calculating objective values and iteration counts for cyclic and random\n",
    "    cyc_obj_vals, rand_obj_vals, t_cyc_count, t_rand_count = objvals(alpha, lamb, x_data, \n",
    "                                                                     y_data, beta_cyc_vals, beta_rand_vals)\n",
    "\n",
    "    # Plotting results of objective values across iteration for cyclic and random\n",
    "    plt.figure(figsize=(15, 7));\n",
    "    plt.plot(t_cyc_count, cyc_obj_vals, label=\"Cyclic\");\n",
    "    plt.plot(t_rand_count, rand_obj_vals, \"+\", label=\"Random\");\n",
    "    plt.legend();\n",
    "    plt.ylabel(\"Objective Value\", fontsize=20);\n",
    "    plt.xlabel(\"Iteration Count (t)\", fontsize=20);\n",
    "    plt.title(\"Iteration Count (t) vs Objective Values\", fontsize=25);\n",
    "    plt.xticks(fontsize=20);\n",
    "    plt.yticks(fontsize=20);\n",
    "    plt.legend(fontsize=20);\n"
   ]
  },
  {
   "cell_type": "markdown",
   "metadata": {},
   "source": [
    " "
   ]
  },
  {
   "cell_type": "markdown",
   "metadata": {},
   "source": [
    "### EXAMPLE 1: \"Hitters\" data set (real world example)\n",
    "\n",
    "##### The example we will go through uses a dataset from the real-world, \"Hitters\", from Introduction to Statistical Learning "
   ]
  },
  {
   "cell_type": "markdown",
   "metadata": {},
   "source": [
    "###### Loading the pre-processed dataset"
   ]
  },
  {
   "cell_type": "code",
   "execution_count": 3,
   "metadata": {
    "collapsed": false
   },
   "outputs": [
    {
     "name": "stderr",
     "output_type": "stream",
     "text": [
      "C:\\Users\\Samir\\Anaconda3\\lib\\site-packages\\sklearn\\preprocessing\\data.py:586: DeprecationWarning: Passing 1d arrays as data is deprecated in 0.17 and will raise ValueError in 0.19. Reshape your data either using X.reshape(-1, 1) if your data has a single feature or X.reshape(1, -1) if it contains a single sample.\n",
      "  warnings.warn(DEPRECATION_MSG_1D, DeprecationWarning)\n",
      "C:\\Users\\Samir\\Anaconda3\\lib\\site-packages\\sklearn\\preprocessing\\data.py:649: DeprecationWarning: Passing 1d arrays as data is deprecated in 0.17 and will raise ValueError in 0.19. Reshape your data either using X.reshape(-1, 1) if your data has a single feature or X.reshape(1, -1) if it contains a single sample.\n",
      "  warnings.warn(DEPRECATION_MSG_1D, DeprecationWarning)\n"
     ]
    }
   ],
   "source": [
    "X, Y = load_data()"
   ]
  },
  {
   "cell_type": "markdown",
   "metadata": {},
   "source": [
    "###### Initialization of variables"
   ]
  },
  {
   "cell_type": "code",
   "execution_count": 4,
   "metadata": {
    "collapsed": false
   },
   "outputs": [],
   "source": [
    "n, p, beta_zero = init_vars(X)"
   ]
  },
  {
   "cell_type": "markdown",
   "metadata": {},
   "source": [
    "###### Creating list of lambda (regularization penalty) values to use for cross-validation."
   ]
  },
  {
   "cell_type": "code",
   "execution_count": 9,
   "metadata": {
    "collapsed": false
   },
   "outputs": [],
   "source": [
    "lamb_list = [10**k for k in range(-7, 7)]"
   ]
  },
  {
   "cell_type": "markdown",
   "metadata": {
    "collapsed": true
   },
   "source": [
    "###### Running own implementation of cross-validation using K-Folds method and comparing to the cross-validation results of _ElasticNetCV_ from Sci-Kit Learn"
   ]
  },
  {
   "cell_type": "code",
   "execution_count": 10,
   "metadata": {
    "collapsed": false
   },
   "outputs": [],
   "source": [
    "cvdata, skopt, myoptlamb = runcompareCV(lamb_list, 0.9, 3, X, Y)"
   ]
  },
  {
   "cell_type": "code",
   "execution_count": 11,
   "metadata": {
    "collapsed": false
   },
   "outputs": [
    {
     "name": "stdout",
     "output_type": "stream",
     "text": [
      " \n",
      "Optimal Lambda (Regularization parameter) - Sci-Kit Learn's Elastic Net after Cross Validation\n",
      " \n",
      "0.01\n",
      " \n",
      "Optimal Lambda (Regularization parameter) - My Cyclic Coordinate Descent with Elastic Net after Cross Validation\n",
      " \n",
      "0.01\n"
     ]
    }
   ],
   "source": [
    "print(' ')\n",
    "print(\"Optimal Lambda (Regularization parameter) - Sci-Kit Learn's Elastic Net after Cross Validation\")\n",
    "print(' ')\n",
    "print(skopt)\n",
    "print(' ')\n",
    "print('Optimal Lambda (Regularization parameter) - My Cyclic Coordinate Descent with Elastic Net after Cross Validation')\n",
    "print(' ')\n",
    "print(myoptlamb)"
   ]
  },
  {
   "cell_type": "markdown",
   "metadata": {},
   "source": [
    "###### Printing results of cross-validation comparison"
   ]
  },
  {
   "cell_type": "code",
   "execution_count": 12,
   "metadata": {
    "collapsed": false
   },
   "outputs": [
    {
     "data": {
      "image/png": "[encoded data removed]",
      "text/plain": [
       "<matplotlib.figure.Figure at 0x233cb0211d0>"
      ]
     },
     "metadata": {},
     "output_type": "display_data"
    }
   ],
   "source": [
    "cvplot(cvdata)"
   ]
  },
  {
   "cell_type": "markdown",
   "metadata": {},
   "source": [
    " "
   ]
  },
  {
   "cell_type": "markdown",
   "metadata": {},
   "source": [
    "###### Calculation and comparison of objective values vs iteration count for both hand implemented cyclic and random coordinate descent algorithms."
   ]
  },
  {
   "cell_type": "code",
   "execution_count": 13,
   "metadata": {
    "collapsed": false
   },
   "outputs": [
    {
     "name": "stdout",
     "output_type": "stream",
     "text": [
      " \n",
      "Beta Coefficients - My Cyclic Coordinate Descent with Elastic Net using Optimal Lambda\n",
      " \n",
      "[-0.36894587  0.47367085  0.          0.          0.          0.19190076\n",
      " -0.0751211   0.          0.          0.06921317  0.38871061  0.28108198\n",
      " -0.21208831  0.1625586   0.03174123 -0.02114784  0.03338831 -0.13212537\n",
      "  0.        ]\n"
     ]
    }
   ],
   "source": [
    "beta_cyc_opt = cycliccoorddescent(beta_zero, 0.9, myoptlamb, X, Y, max_iter = 10000)\n",
    "print(' ')\n",
    "print('Beta Coefficients - My Cyclic Coordinate Descent with Elastic Net using Optimal Lambda')\n",
    "print(' ')\n",
    "print(beta_cyc_opt[-1])\n"
   ]
  },
  {
   "cell_type": "code",
   "execution_count": 14,
   "metadata": {
    "collapsed": false
   },
   "outputs": [
    {
     "name": "stdout",
     "output_type": "stream",
     "text": [
      " \n",
      "Beta Coefficients - My Random Coordinate Descent with Elastic Net using Optimal Lambda\n",
      " \n",
      "[-0.36908881  0.47378865  0.          0.          0.          0.19191695\n",
      " -0.0750578   0.          0.          0.06948715  0.38900513  0.28061218\n",
      " -0.21222248  0.16257519  0.03176388 -0.0211428   0.03340255 -0.13211579\n",
      "  0.        ]\n"
     ]
    }
   ],
   "source": [
    "beta_rand_opt = randcoorddescent(beta_zero, 0.9, myoptlamb, X, Y, max_iter = 10000)\n",
    "print(' ')\n",
    "print('Beta Coefficients - My Random Coordinate Descent with Elastic Net using Optimal Lambda')\n",
    "print(' ')\n",
    "print(beta_rand_opt[-1])\n"
   ]
  },
  {
   "cell_type": "markdown",
   "metadata": {},
   "source": [
    " "
   ]
  },
  {
   "cell_type": "markdown",
   "metadata": {},
   "source": [
    "#### Plot of objective values across the iterations of the cyclic and random descent algorithms "
   ]
  },
  {
   "cell_type": "code",
   "execution_count": 15,
   "metadata": {
    "collapsed": false
   },
   "outputs": [
    {
     "data": {
      "image/png": "[encoded data removed]",
      "text/plain": [
       "<matplotlib.figure.Figure at 0x233cc7aa438>"
      ]
     },
     "metadata": {},
     "output_type": "display_data"
    }
   ],
   "source": [
    "objvalsplot(0.9, myoptlamb, X, Y, beta_cyc_opt, beta_rand_opt)"
   ]
  },
  {
   "cell_type": "markdown",
   "metadata": {},
   "source": [
    " "
   ]
  },
  {
   "cell_type": "markdown",
   "metadata": {},
   "source": [
    "#### From the results above, we see that convergence happens relatively quickly for both the cyclic and random coordinate descent algorithms which also line up reasonably well in respect to one another."
   ]
  }
 ],
 "metadata": {
  "kernelspec": {
   "display_name": "Python 3",
   "language": "python",
   "name": "python3"
  },
  "language_info": {
   "codemirror_mode": {
    "name": "ipython",
    "version": 3
   },
   "file_extension": ".py",
   "mimetype": "text/x-python",
   "name": "python",
   "nbconvert_exporter": "python",
   "pygments_lexer": "ipython3",
   "version": "3.6.0"
  }
 },
 "nbformat": 4,
 "nbformat_minor": 2
}
