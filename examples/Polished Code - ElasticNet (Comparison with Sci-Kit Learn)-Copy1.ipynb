{
 "cells": [
  {
   "cell_type": "markdown",
   "metadata": {},
   "source": [
    "## Polished Code (Comparison with Sci-Kit Learn)\n",
    "\n",
    "### Coordinate Descent Algorithm with Elastic Net Regularization\n",
    "\n",
    "#### Samir D Patel"
   ]
  },
  {
   "cell_type": "markdown",
   "metadata": {},
   "source": [
    "This notebook is an experimental comparison between my own implementation of an an Elastic Net Regularized, Coordinate Descent Algorithm and that of the Sci-Kit Learn model for ElasticNet and ElasticNetCV . \n",
    "\n",
    "This was done as part of my DATA 558 Machine Learning course at the University of Washington."
   ]
  },
  {
   "cell_type": "markdown",
   "metadata": {},
   "source": [
    " "
   ]
  },
  {
   "cell_type": "code",
   "execution_count": 11,
   "metadata": {
    "collapsed": false
   },
   "outputs": [],
   "source": [
    "# import numpy as np\n",
    "# import matplotlib.pyplot as plt  \n",
    "# import pandas as pd\n",
    "# import copy\n",
    "# import time\n",
    "# from sklearn.preprocessing import StandardScaler\n",
    "# from sklearn.linear_model import ElasticNetCV, ElasticNet\n",
    "# from sklearn.model_selection import KFold\n",
    "# from sklearn.metrics import mean_squared_error\n",
    "# from multiprocessing import Pool\n",
    "\n",
    "%matplotlib inline  \n",
    "\n",
    "# Only needed for IPython Notebook output\n",
    "from IPython.core.interactiveshell import InteractiveShell\n",
    "InteractiveShell.ast_node_interactivity = \"all\"\n",
    "\n",
    "import src.myelasticnet as enet\n"
   ]
  },
  {
   "cell_type": "markdown",
   "metadata": {},
   "source": [
    " "
   ]
  },
  {
   "cell_type": "markdown",
   "metadata": {},
   "source": [
    " "
   ]
  },
  {
   "cell_type": "markdown",
   "metadata": {},
   "source": [
    "### Comparison of my own Coordinate Descent Algoirthm with Elastic Net Regularization and that of Sci-Kit Learn\n",
    "\n",
    "##### The example we will go through uses a dataset from the real-world, \"Hitters\", from Introduction to Statistical Learning "
   ]
  },
  {
   "cell_type": "markdown",
   "metadata": {},
   "source": [
    "###### Loading the pre-processed dataset"
   ]
  },
  {
   "cell_type": "code",
   "execution_count": 2,
   "metadata": {
    "collapsed": false
   },
   "outputs": [
    {
     "name": "stderr",
     "output_type": "stream",
     "text": [
      "C:\\Users\\Samir\\Anaconda3\\lib\\site-packages\\sklearn\\preprocessing\\data.py:586: DeprecationWarning: Passing 1d arrays as data is deprecated in 0.17 and will raise ValueError in 0.19. Reshape your data either using X.reshape(-1, 1) if your data has a single feature or X.reshape(1, -1) if it contains a single sample.\n",
      "  warnings.warn(DEPRECATION_MSG_1D, DeprecationWarning)\n",
      "C:\\Users\\Samir\\Anaconda3\\lib\\site-packages\\sklearn\\preprocessing\\data.py:649: DeprecationWarning: Passing 1d arrays as data is deprecated in 0.17 and will raise ValueError in 0.19. Reshape your data either using X.reshape(-1, 1) if your data has a single feature or X.reshape(1, -1) if it contains a single sample.\n",
      "  warnings.warn(DEPRECATION_MSG_1D, DeprecationWarning)\n"
     ]
    }
   ],
   "source": [
    "X, Y = enet.load_data()"
   ]
  },
  {
   "cell_type": "markdown",
   "metadata": {},
   "source": [
    "###### Initialization of variables"
   ]
  },
  {
   "cell_type": "code",
   "execution_count": 3,
   "metadata": {
    "collapsed": false
   },
   "outputs": [],
   "source": [
    "n, p, beta_zero = enet.init_vars(X)"
   ]
  },
  {
   "cell_type": "markdown",
   "metadata": {},
   "source": [
    "###### Running Sci-Kit Learn's _ElasticNetCV_ for baseline determination"
   ]
  },
  {
   "cell_type": "code",
   "execution_count": 4,
   "metadata": {
    "collapsed": false
   },
   "outputs": [
    {
     "name": "stdout",
     "output_type": "stream",
     "text": [
      " \n",
      "Beta Coefficients - SciKit Learn's ElasticNetCV\n",
      " \n",
      "[-0.38478192  0.48437994  0.          0.          0.          0.19609096\n",
      " -0.07808615 -0.          0.          0.07252121  0.40011549  0.28038039\n",
      " -0.22362894  0.16335622  0.03464844 -0.02227274  0.03369254 -0.13217299\n",
      " -0.        ]\n",
      " \n",
      "Optimal Lambda (Regularization parameter) - SciKit Learn's ElasticNetCV\n",
      " \n",
      "0.00957486032471\n"
     ]
    }
   ],
   "source": [
    "betaskl, lambskl = enet.runsklelasticnetcv(0.9, X, Y, 'cyclic')\n",
    "\n",
    "print(' ')\n",
    "print(\"Beta Coefficients - SciKit Learn's ElasticNetCV\")\n",
    "print(' ')\n",
    "print(betaskl)\n",
    "\n",
    "print(' ')\n",
    "print(\"Optimal Lambda (Regularization parameter) - SciKit Learn's ElasticNetCV\")\n",
    "print(' ')\n",
    "print(lambskl)"
   ]
  },
  {
   "cell_type": "markdown",
   "metadata": {},
   "source": [
    "###### Running Sci-KIt Learn's _ElasticNet_ for baseline determination (using optimal regularization parameter from _ElasticNetCV_)"
   ]
  },
  {
   "cell_type": "code",
   "execution_count": 5,
   "metadata": {
    "collapsed": false
   },
   "outputs": [
    {
     "name": "stdout",
     "output_type": "stream",
     "text": [
      " \n",
      "Beta Coefficients - SciKit Learn's ElasticNet using Optimal Lambda from ElasticNetCV\n",
      " \n",
      "[-0.38478192  0.48437994  0.          0.          0.          0.19609096\n",
      " -0.07808615 -0.          0.          0.07252121  0.40011549  0.28038039\n",
      " -0.22362894  0.16335622  0.03464844 -0.02227274  0.03369254 -0.13217299\n",
      " -0.        ]\n"
     ]
    }
   ],
   "source": [
    "betaskl2 = enet.runsklelasticnet(lambskl, 0.9, X, Y, 'cyclic')\n",
    "\n",
    "print(' ')\n",
    "print(\"Beta Coefficients - SciKit Learn's ElasticNet using Optimal Lambda from ElasticNetCV\")\n",
    "print(' ')\n",
    "print(betaskl2)\n"
   ]
  },
  {
   "cell_type": "markdown",
   "metadata": {},
   "source": [
    "###### Running my own hand implemented Cyclic Coordinate Descent Algorithm with Elastic Net regularization to compare vs. Sci-Kit Learn (using optimal regularization parameter from _ElasticNetCV_)"
   ]
  },
  {
   "cell_type": "code",
   "execution_count": 6,
   "metadata": {
    "collapsed": false
   },
   "outputs": [
    {
     "name": "stdout",
     "output_type": "stream",
     "text": [
      " \n",
      "Beta Coefficients - My Cyclic Coordinate Descent w/ Elastic Net using Optimal Lambda from ElasticNetCV\n",
      " \n",
      "[-0.38478146  0.48437808  0.          0.          0.          0.19609188\n",
      " -0.07808891  0.          0.          0.07251743  0.40011803  0.28038641\n",
      " -0.22363151  0.16335613  0.0346484  -0.02227283  0.03369227 -0.1321731   0.        ]\n"
     ]
    }
   ],
   "source": [
    "beta_cyc_all = enet.cycliccoorddescent(beta_zero, 0.9, lambskl, X, Y, max_iter = 10000)\n",
    "\n",
    "print(' ')\n",
    "print(\"Beta Coefficients - My Cyclic Coordinate Descent w/ Elastic Net using Optimal Lambda from ElasticNetCV\")\n",
    "print(' ')\n",
    "print(beta_cyc_all[-1])"
   ]
  },
  {
   "cell_type": "markdown",
   "metadata": {},
   "source": [
    "###### Running my own hand implemented Random Coordinate Descent Algorithm with Elastic Net regularization to compare vs. Sci-Kit Learn (using optimal regularization parameter from ElasticNetCV)"
   ]
  },
  {
   "cell_type": "code",
   "execution_count": 7,
   "metadata": {
    "collapsed": false,
    "scrolled": false
   },
   "outputs": [
    {
     "name": "stdout",
     "output_type": "stream",
     "text": [
      " \n",
      "Beta Coefficients - My Cyclic Coordinate Descent w/ Elastic Net using Optimal Lambda from ElasticNetCV\n",
      " \n",
      "[-0.38501398  0.48767296  0.          0.          0.          0.19443182\n",
      " -0.07384646  0.          0.04901648  0.10354459  0.35751945  0.23002553\n",
      " -0.21210295  0.16343829  0.03517732 -0.02254193  0.03401284 -0.13245692\n",
      "  0.        ]\n"
     ]
    }
   ],
   "source": [
    "beta_rand_all = enet.randcoorddescent(beta_zero, 0.9, lambskl, X, Y, max_iter = 10000)\n",
    "\n",
    "print(' ')\n",
    "print(\"Beta Coefficients - My Cyclic Coordinate Descent w/ Elastic Net using Optimal Lambda from ElasticNetCV\")\n",
    "print(' ')\n",
    "print(beta_rand_all[-1])"
   ]
  },
  {
   "cell_type": "markdown",
   "metadata": {},
   "source": [
    " "
   ]
  },
  {
   "cell_type": "markdown",
   "metadata": {},
   "source": [
    "###### Creating list of lambda (regularization penalty) values to use for cross-validation."
   ]
  },
  {
   "cell_type": "code",
   "execution_count": 8,
   "metadata": {
    "collapsed": false
   },
   "outputs": [],
   "source": [
    "lamb_list = [10**k for k in range(-7, 7)]"
   ]
  },
  {
   "cell_type": "markdown",
   "metadata": {
    "collapsed": true
   },
   "source": [
    "###### Running own implementation of cross-validation using K-Folds method and comparing to the cross-validation results of _ElasticNetCV_ from Sci-Kit Learn"
   ]
  },
  {
   "cell_type": "code",
   "execution_count": 12,
   "metadata": {
    "collapsed": false
   },
   "outputs": [
    {
     "ename": "NameError",
     "evalue": "name 'beta_zero' is not defined",
     "output_type": "error",
     "traceback": [
      "\u001b[0;31m---------------------------------------------------------------------------\u001b[0m",
      "\u001b[0;31mNameError\u001b[0m                                 Traceback (most recent call last)",
      "\u001b[0;32m<ipython-input-12-05ac6b82d283>\u001b[0m in \u001b[0;36m<module>\u001b[0;34m()\u001b[0m\n\u001b[0;32m----> 1\u001b[0;31m \u001b[0mcvdata\u001b[0m\u001b[1;33m,\u001b[0m \u001b[0mskopt\u001b[0m\u001b[1;33m,\u001b[0m \u001b[0mmyoptlamb\u001b[0m \u001b[1;33m=\u001b[0m \u001b[0menet\u001b[0m\u001b[1;33m.\u001b[0m\u001b[0mruncompareCV\u001b[0m\u001b[1;33m(\u001b[0m\u001b[0mlamb_list\u001b[0m\u001b[1;33m,\u001b[0m \u001b[1;36m0.9\u001b[0m\u001b[1;33m,\u001b[0m \u001b[1;36m3\u001b[0m\u001b[1;33m,\u001b[0m \u001b[0mX\u001b[0m\u001b[1;33m,\u001b[0m \u001b[0mY\u001b[0m\u001b[1;33m)\u001b[0m\u001b[1;33m\u001b[0m\u001b[0m\n\u001b[0m",
      "\u001b[0;32mC:\\Users\\Samir\\Anaconda3\\lib\\site-packages\\polishedcode_machinelearning-0.0.0-py3.6.egg\\src\\myelasticnet.py\u001b[0m in \u001b[0;36mruncompareCV\u001b[0;34m(lamb_list, alpha, folds, X_data, Y_data)\u001b[0m\n\u001b[1;32m    440\u001b[0m \u001b[1;33m\u001b[0m\u001b[0m\n\u001b[1;32m    441\u001b[0m     \u001b[1;31m# Running hand implemented algorithm with cross-validation\u001b[0m\u001b[1;33m\u001b[0m\u001b[1;33m\u001b[0m\u001b[0m\n\u001b[0;32m--> 442\u001b[0;31m     \u001b[0mcv_mse\u001b[0m \u001b[1;33m=\u001b[0m \u001b[0mcross_val\u001b[0m\u001b[1;33m(\u001b[0m\u001b[0mlamb_list\u001b[0m\u001b[1;33m,\u001b[0m \u001b[0mfolds\u001b[0m\u001b[1;33m,\u001b[0m \u001b[0mX_data\u001b[0m\u001b[1;33m,\u001b[0m \u001b[0mY_data\u001b[0m \u001b[1;33m)\u001b[0m\u001b[1;33m\u001b[0m\u001b[0m\n\u001b[0m\u001b[1;32m    443\u001b[0m \u001b[1;33m\u001b[0m\u001b[0m\n\u001b[1;32m    444\u001b[0m     \u001b[1;31m# Running SKLearn algorithm with cross-validation\u001b[0m\u001b[1;33m\u001b[0m\u001b[1;33m\u001b[0m\u001b[0m\n",
      "\u001b[0;32mC:\\Users\\Samir\\Anaconda3\\lib\\site-packages\\polishedcode_machinelearning-0.0.0-py3.6.egg\\src\\myelasticnet.py\u001b[0m in \u001b[0;36mcross_val\u001b[0;34m(lamb_list, folds, x_data, y_data)\u001b[0m\n\u001b[1;32m    375\u001b[0m     \u001b[0mX\u001b[0m \u001b[1;33m=\u001b[0m \u001b[0mnp\u001b[0m\u001b[1;33m.\u001b[0m\u001b[0marray\u001b[0m\u001b[1;33m(\u001b[0m\u001b[0mx_data\u001b[0m\u001b[1;33m)\u001b[0m\u001b[1;33m\u001b[0m\u001b[0m\n\u001b[1;32m    376\u001b[0m     \u001b[0mY\u001b[0m \u001b[1;33m=\u001b[0m \u001b[0mnp\u001b[0m\u001b[1;33m.\u001b[0m\u001b[0marray\u001b[0m\u001b[1;33m(\u001b[0m\u001b[0my_data\u001b[0m\u001b[1;33m)\u001b[0m\u001b[1;33m\u001b[0m\u001b[0m\n\u001b[0;32m--> 377\u001b[0;31m     \u001b[0mbeta\u001b[0m \u001b[1;33m=\u001b[0m \u001b[0mbeta_zero\u001b[0m\u001b[1;33m\u001b[0m\u001b[0m\n\u001b[0m\u001b[1;32m    378\u001b[0m     \u001b[0mmse_list\u001b[0m \u001b[1;33m=\u001b[0m \u001b[1;33m[\u001b[0m\u001b[1;33m]\u001b[0m\u001b[1;33m\u001b[0m\u001b[0m\n\u001b[1;32m    379\u001b[0m \u001b[1;33m\u001b[0m\u001b[0m\n",
      "\u001b[0;31mNameError\u001b[0m: name 'beta_zero' is not defined"
     ]
    }
   ],
   "source": [
    "cvdata, skopt, myoptlamb = enet.runcompareCV(lamb_list, 0.9, 3, X, Y)"
   ]
  },
  {
   "cell_type": "code",
   "execution_count": null,
   "metadata": {
    "collapsed": false
   },
   "outputs": [],
   "source": [
    "print(' ')\n",
    "print(\"Optimal Lambda (Regularization parameter) - Sci-Kit Learn's Elastic Net after Cross Validation\")\n",
    "print(' ')\n",
    "print(skopt)\n",
    "print(' ')\n",
    "print('Optimal Lambda (Regularization parameter) - My Cyclic Coordinate Descent with Elastic Net after Cross Validation')\n",
    "print(' ')\n",
    "print(myoptlamb)"
   ]
  },
  {
   "cell_type": "markdown",
   "metadata": {},
   "source": [
    "###### Printing results of cross-validation comparison"
   ]
  },
  {
   "cell_type": "code",
   "execution_count": null,
   "metadata": {
    "collapsed": false
   },
   "outputs": [],
   "source": [
    "cvplot(cvdata)"
   ]
  },
  {
   "cell_type": "markdown",
   "metadata": {},
   "source": [
    " "
   ]
  },
  {
   "cell_type": "markdown",
   "metadata": {},
   "source": [
    " "
   ]
  },
  {
   "cell_type": "markdown",
   "metadata": {},
   "source": [
    "#### From the results above, we see that the hand-implemented versions of Coordinate Descent with Elastic Net Regularization matches very well with that from Sci-Kit Learn.  However, computational time is another issue. __:)__"
   ]
  }
 ],
 "metadata": {
  "kernelspec": {
   "display_name": "Python 3",
   "language": "python",
   "name": "python3"
  },
  "language_info": {
   "codemirror_mode": {
    "name": "ipython",
    "version": 3
   },
   "file_extension": ".py",
   "mimetype": "text/x-python",
   "name": "python",
   "nbconvert_exporter": "python",
   "pygments_lexer": "ipython3",
   "version": "3.6.0"
  }
 },
 "nbformat": 4,
 "nbformat_minor": 2
}
