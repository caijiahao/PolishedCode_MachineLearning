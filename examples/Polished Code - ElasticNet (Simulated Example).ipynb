{
 "cells": [
  {
   "cell_type": "markdown",
   "metadata": {},
   "source": [
    "## Polished Code (Simulated Data Example)\n",
    "\n",
    "### Coordinate Descent Algorithm with Elastic Net Regularization\n",
    "\n",
    "#### Samir D Patel"
   ]
  },
  {
   "cell_type": "markdown",
   "metadata": {},
   "source": [
    "This notebook is an overview of my own implementation of an an Elastic Net Regularized, Coordinate Descent Algorithm on a simulated (randomly generated) dataset.\n",
    "\n",
    "This was done as part of my DATA 558 Machine Learning course at the University of Washington."
   ]
  },
  {
   "cell_type": "markdown",
   "metadata": {},
   "source": [
    " "
   ]
  },
  {
   "cell_type": "markdown",
   "metadata": {},
   "source": [
    "#### NOTE:  To view the raw code for the functions run in this notebook, please refer to _'myelasticnet.py'_ in the _src_ folder.  \n",
    "#### Or refer to https://github.com/samirpdx/PolishedCode_MachineLearning/blob/master/src/myelasticnet.py"
   ]
  },
  {
   "cell_type": "markdown",
   "metadata": {},
   "source": [
    " "
   ]
  },
  {
   "cell_type": "code",
   "execution_count": 1,
   "metadata": {
    "collapsed": true
   },
   "outputs": [],
   "source": [
    "import numpy as np\n",
    "from sklearn.preprocessing import StandardScaler\n",
    "\n",
    "%matplotlib inline  \n",
    "\n",
    "# Only needed for IPython Notebook output\n",
    "from IPython.core.interactiveshell import InteractiveShell\n",
    "InteractiveShell.ast_node_interactivity = \"all\"\n",
    "\n",
    "# Importing module I created containing code for implemented Elastic Net\n",
    "import src.myelasticnet as enet\n"
   ]
  },
  {
   "cell_type": "markdown",
   "metadata": {},
   "source": [
    " "
   ]
  },
  {
   "cell_type": "code",
   "execution_count": 16,
   "metadata": {
    "collapsed": true
   },
   "outputs": [],
   "source": [
    "# Importing the \"Hitters\" dataset from Introduction to Statistical Learning and standardizing the predictors\n",
    "\n",
    "def load_data():\n",
    "    \"\"\"\n",
    "    This function loads the 'Hitters' dataset from Introduction to Statistical\n",
    "    Learning, splits the responses and predictors into X and Y respectively\n",
    "    and standardizes both X and Y.\n",
    "\n",
    "    :return X: numpy array\n",
    "        Data containing the predictors\n",
    "    :return Y: numpy array\n",
    "        Data containing the response\n",
    "\n",
    "    \"\"\"\n",
    "    np.random.seed(0)\n",
    "    X_create = np.random.normal(loc = 1, scale = 1, size = (1, 1500))\n",
    "    eps = np.random.normal(loc=0, scale=0.01,size = 1500)\n",
    "    beta_c = np.array([0,1,2,3])\n",
    "    \n",
    "    Y = (beta_c[0] + beta_c[1]*(X_create**1) + beta_c[2]*(X_create**2) + beta_c[3]*(X_create**3) + eps).T\n",
    "    Y = np.ravel(Y)\n",
    "\n",
    "    #Matrix of predictors\n",
    "    X = np.vstack([X_create**i for i in range(1, 4)]).T\n",
    "\n",
    "    scaler = StandardScaler()\n",
    "    X = scaler.fit_transform(X)\n",
    "    Y = scaler.fit_transform(Y)\n",
    "\n",
    "    return X, Y\n"
   ]
  },
  {
   "cell_type": "markdown",
   "metadata": {},
   "source": [
    " "
   ]
  },
  {
   "cell_type": "markdown",
   "metadata": {},
   "source": [
    "### EXAMPLE: Simulated Dataset\n",
    "\n",
    "##### The example we will go through an Elastic Net Regularized, Coordinate Descent Algorithm running on a simulated (randomly generated) dataset."
   ]
  },
  {
   "cell_type": "markdown",
   "metadata": {},
   "source": [
    "###### Loading the pre-processed dataset"
   ]
  },
  {
   "cell_type": "code",
   "execution_count": 18,
   "metadata": {
    "collapsed": false
   },
   "outputs": [
    {
     "name": "stderr",
     "output_type": "stream",
     "text": [
      "C:\\Users\\Samir\\Anaconda3\\lib\\site-packages\\sklearn\\preprocessing\\data.py:586: DeprecationWarning: Passing 1d arrays as data is deprecated in 0.17 and will raise ValueError in 0.19. Reshape your data either using X.reshape(-1, 1) if your data has a single feature or X.reshape(1, -1) if it contains a single sample.\n",
      "  warnings.warn(DEPRECATION_MSG_1D, DeprecationWarning)\n",
      "C:\\Users\\Samir\\Anaconda3\\lib\\site-packages\\sklearn\\preprocessing\\data.py:649: DeprecationWarning: Passing 1d arrays as data is deprecated in 0.17 and will raise ValueError in 0.19. Reshape your data either using X.reshape(-1, 1) if your data has a single feature or X.reshape(1, -1) if it contains a single sample.\n",
      "  warnings.warn(DEPRECATION_MSG_1D, DeprecationWarning)\n"
     ]
    }
   ],
   "source": [
    "X, Y = load_data()"
   ]
  },
  {
   "cell_type": "markdown",
   "metadata": {},
   "source": [
    "###### Initialization of variables"
   ]
  },
  {
   "cell_type": "code",
   "execution_count": 19,
   "metadata": {
    "collapsed": false
   },
   "outputs": [],
   "source": [
    "n, p, beta_zero = enet.init_vars(X)"
   ]
  },
  {
   "cell_type": "markdown",
   "metadata": {},
   "source": [
    "###### Creating list of lambda (regularization penalty) values to use for cross-validation."
   ]
  },
  {
   "cell_type": "code",
   "execution_count": 20,
   "metadata": {
    "collapsed": false
   },
   "outputs": [],
   "source": [
    "lamb_list = [10**k for k in range(-7, 7)]"
   ]
  },
  {
   "cell_type": "markdown",
   "metadata": {},
   "source": [
    " "
   ]
  },
  {
   "cell_type": "markdown",
   "metadata": {
    "collapsed": true
   },
   "source": [
    "###### Running own implementation of cross-validation using K-Folds method and comparing to the cross-validation results of _ElasticNetCV_ from Sci-Kit Learn"
   ]
  },
  {
   "cell_type": "code",
   "execution_count": 21,
   "metadata": {
    "collapsed": false
   },
   "outputs": [],
   "source": [
    "cvdata, skopt, myoptlamb = enet.runcompareCV(lamb_list, 0.9, 5, X, Y)"
   ]
  },
  {
   "cell_type": "code",
   "execution_count": 22,
   "metadata": {
    "collapsed": false
   },
   "outputs": [
    {
     "name": "stdout",
     "output_type": "stream",
     "text": [
      " \n",
      "Optimal Lambda (Regularization parameter) - My Cyclic Coordinate Descent with Elastic Net after Cross Validation\n",
      " \n",
      "1e-07\n"
     ]
    }
   ],
   "source": [
    "print(' ')\n",
    "print('Optimal Lambda (Regularization parameter) - My Cyclic Coordinate Descent with Elastic Net after Cross Validation')\n",
    "print(' ')\n",
    "print(myoptlamb)"
   ]
  },
  {
   "cell_type": "markdown",
   "metadata": {},
   "source": [
    "###### Calculation and comparison of objective values vs iteration count for both hand implemented cyclic and random coordinate descent algorithms."
   ]
  },
  {
   "cell_type": "code",
   "execution_count": 23,
   "metadata": {
    "collapsed": false
   },
   "outputs": [
    {
     "name": "stdout",
     "output_type": "stream",
     "text": [
      " \n",
      "Beta Coefficients - My Cyclic Coordinate Descent with Elastic Net using Optimal Lambda\n",
      " \n",
      "[ 0.03601695  0.17441545  0.80307059]\n"
     ]
    }
   ],
   "source": [
    "beta_cyc_opt = enet.cycliccoorddescent(beta_zero, 0.9, myoptlamb, X, Y, max_iter = 10000, eps = 1e-7)\n",
    "print(' ')\n",
    "print('Beta Coefficients - My Cyclic Coordinate Descent with Elastic Net using Optimal Lambda')\n",
    "print(' ')\n",
    "print(beta_cyc_opt[-1])\n"
   ]
  },
  {
   "cell_type": "code",
   "execution_count": 24,
   "metadata": {
    "collapsed": false
   },
   "outputs": [
    {
     "name": "stdout",
     "output_type": "stream",
     "text": [
      " \n",
      "Beta Coefficients - My Random Coordinate Descent with Elastic Net using Optimal Lambda\n",
      " \n",
      "[ 0.03599507  0.17477658  0.80271119]\n"
     ]
    }
   ],
   "source": [
    "beta_rand_opt = enet.randcoorddescent(beta_zero, 0.9, myoptlamb, X, Y, max_iter = 10000, eps = 1e-7)\n",
    "print(' ')\n",
    "print('Beta Coefficients - My Random Coordinate Descent with Elastic Net using Optimal Lambda')\n",
    "print(' ')\n",
    "print(beta_rand_opt[-1])\n"
   ]
  },
  {
   "cell_type": "markdown",
   "metadata": {},
   "source": [
    " "
   ]
  },
  {
   "cell_type": "markdown",
   "metadata": {},
   "source": [
    "#### Plot of objective values across the iterations of the cyclic and random descent algorithms "
   ]
  },
  {
   "cell_type": "code",
   "execution_count": 25,
   "metadata": {
    "collapsed": false,
    "scrolled": false
   },
   "outputs": [
    {
     "data": {
      "image/png": "[encoded data removed]",
      "text/plain": [
       "<matplotlib.figure.Figure at 0x1743b3f5208>"
      ]
     },
     "metadata": {},
     "output_type": "display_data"
    }
   ],
   "source": [
    "enet.objvalsplot(0.8, myoptlamb, X, Y, beta_cyc_opt, beta_rand_opt)"
   ]
  },
  {
   "cell_type": "markdown",
   "metadata": {},
   "source": [
    " "
   ]
  },
  {
   "cell_type": "markdown",
   "metadata": {},
   "source": [
    "#### From the results above, we see that convergence happens relatively quickly for both the cyclic and random coordinate descent algorithms which also line up reasonably well in respect to one another."
   ]
  }
 ],
 "metadata": {
  "kernelspec": {
   "display_name": "Python 3",
   "language": "python",
   "name": "python3"
  },
  "language_info": {
   "codemirror_mode": {
    "name": "ipython",
    "version": 3
   },
   "file_extension": ".py",
   "mimetype": "text/x-python",
   "name": "python",
   "nbconvert_exporter": "python",
   "pygments_lexer": "ipython3",
   "version": "3.6.0"
  }
 },
 "nbformat": 4,
 "nbformat_minor": 2
}
